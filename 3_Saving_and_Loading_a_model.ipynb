{
  "cells": [
    {
      "cell_type": "markdown",
      "metadata": {
        "id": "view-in-github",
        "colab_type": "text"
      },
      "source": [
        "<a href=\"https://colab.research.google.com/github/mohamedb93/Predictive_Analysis_Data_2024/blob/main/3_Saving_and_Loading_a_model.ipynb\" target=\"_parent\"><img src=\"https://colab.research.google.com/assets/colab-badge.svg\" alt=\"Open In Colab\"/></a>"
      ]
    },
    {
      "cell_type": "markdown",
      "metadata": {
        "id": "ihLGqmbXLDUN"
      },
      "source": [
        "# Saving and Loading a Keras Neural Network\n",
        "\n",
        "Complex neural networks will take a long time to fit/train.  It is helpful to be able to save these neural networks so that you can reload them later.  A reloaded neural network will not require retraining.  Keras provides three formats for neural network saving.\n",
        "\n",
        "* **JSON** - Stores the neural network structure (no weights) in the [JSON file format](https://en.wikipedia.org/wiki/JSON).\n",
        "* **HDF5** - Stores the complete neural network (with weights) in the [HDF5 file format](https://en.wikipedia.org/wiki/Hierarchical_Data_Format). Do not confuse HDF5 with [HDFS](https://en.wikipedia.org/wiki/Apache_Hadoop).  They are different.  We do not use HDFS in this class.\n",
        "\n",
        "Usually, you will want to save in HDF5."
      ]
    },
    {
      "cell_type": "code",
      "source": [
        "from tensorflow.keras.models import Sequential\n",
        "from tensorflow.keras.layers import Dense, Activation\n",
        "import pandas as pd\n",
        "import io\n",
        "import os\n",
        "import requests\n",
        "import numpy as np\n",
        "from sklearn import metrics"
      ],
      "metadata": {
        "id": "5pArWxL2-e5K"
      },
      "execution_count": null,
      "outputs": []
    },
    {
      "cell_type": "code",
      "source": [
        "save_path = \".\""
      ],
      "metadata": {
        "id": "igCiKR6F-e1R"
      },
      "execution_count": null,
      "outputs": []
    },
    {
      "cell_type": "code",
      "source": [
        "df = pd.read_csv('https://raw.githubusercontent.com/glopez21/Deep-Learning-Intro/main/data/auto-mpg.csv', na_values=['NA', '?'])"
      ],
      "metadata": {
        "id": "dJLlk057-iq0"
      },
      "execution_count": null,
      "outputs": []
    },
    {
      "cell_type": "code",
      "source": [
        "cars = df['name']"
      ],
      "metadata": {
        "id": "6cRwI4Fd-inS"
      },
      "execution_count": null,
      "outputs": []
    },
    {
      "cell_type": "code",
      "source": [
        "# Handle missing value\n",
        "df['horsepower'] = df['horsepower'].fillna(df['horsepower'].median())"
      ],
      "metadata": {
        "id": "eluYqnOt-uUq"
      },
      "execution_count": null,
      "outputs": []
    },
    {
      "cell_type": "code",
      "source": [
        "# Pandas to Numpy\n",
        "x = df[['cylinders', 'displacement', 'horsepower', 'weight', 'acceleration', 'year', 'origin']].values\n",
        "y = df['mpg'].values"
      ],
      "metadata": {
        "id": "rVmPIgF1-uQv"
      },
      "execution_count": null,
      "outputs": []
    },
    {
      "cell_type": "code",
      "source": [
        "# Build the neural network\n",
        "model = Sequential()\n",
        "model.add(Dense(25, input_dim=x.shape[1], activation='relu')) # Hidden 1\n",
        "model.add(Dense(10, activation='relu')) # Hidden 2\n",
        "model.add(Dense(1)) # Output\n",
        "model.compile(loss='mean_squared_error', optimizer='adam')\n",
        "model.fit(x,y,verbose=2,epochs=100)"
      ],
      "metadata": {
        "colab": {
          "base_uri": "https://localhost:8080/"
        },
        "id": "pVyGFdCy-1p8",
        "outputId": "46384235-c998-45b0-bcb4-98b9dbb19171"
      },
      "execution_count": null,
      "outputs": [
        {
          "output_type": "stream",
          "name": "stdout",
          "text": [
            "Epoch 1/100\n",
            "13/13 - 1s - loss: 1048702.2500 - 691ms/epoch - 53ms/step\n",
            "Epoch 2/100\n",
            "13/13 - 0s - loss: 635544.3750 - 31ms/epoch - 2ms/step\n",
            "Epoch 3/100\n",
            "13/13 - 0s - loss: 414068.1562 - 30ms/epoch - 2ms/step\n",
            "Epoch 4/100\n",
            "13/13 - 0s - loss: 273995.1250 - 29ms/epoch - 2ms/step\n",
            "Epoch 5/100\n",
            "13/13 - 0s - loss: 181305.4062 - 29ms/epoch - 2ms/step\n",
            "Epoch 6/100\n",
            "13/13 - 0s - loss: 118894.3047 - 28ms/epoch - 2ms/step\n",
            "Epoch 7/100\n",
            "13/13 - 0s - loss: 76319.8594 - 26ms/epoch - 2ms/step\n",
            "Epoch 8/100\n",
            "13/13 - 0s - loss: 48713.5234 - 25ms/epoch - 2ms/step\n",
            "Epoch 9/100\n",
            "13/13 - 0s - loss: 30055.0996 - 28ms/epoch - 2ms/step\n",
            "Epoch 10/100\n",
            "13/13 - 0s - loss: 18906.6777 - 28ms/epoch - 2ms/step\n",
            "Epoch 11/100\n",
            "13/13 - 0s - loss: 15035.2148 - 28ms/epoch - 2ms/step\n",
            "Epoch 12/100\n",
            "13/13 - 0s - loss: 12627.1406 - 33ms/epoch - 3ms/step\n",
            "Epoch 13/100\n",
            "13/13 - 0s - loss: 10586.3057 - 26ms/epoch - 2ms/step\n",
            "Epoch 14/100\n",
            "13/13 - 0s - loss: 8825.7012 - 26ms/epoch - 2ms/step\n",
            "Epoch 15/100\n",
            "13/13 - 0s - loss: 7334.4297 - 27ms/epoch - 2ms/step\n",
            "Epoch 16/100\n",
            "13/13 - 0s - loss: 6072.7100 - 40ms/epoch - 3ms/step\n",
            "Epoch 17/100\n",
            "13/13 - 0s - loss: 5011.7935 - 28ms/epoch - 2ms/step\n",
            "Epoch 18/100\n",
            "13/13 - 0s - loss: 4136.1099 - 26ms/epoch - 2ms/step\n",
            "Epoch 19/100\n",
            "13/13 - 0s - loss: 3387.5791 - 25ms/epoch - 2ms/step\n",
            "Epoch 20/100\n",
            "13/13 - 0s - loss: 2774.5332 - 29ms/epoch - 2ms/step\n",
            "Epoch 21/100\n",
            "13/13 - 0s - loss: 2271.7573 - 30ms/epoch - 2ms/step\n",
            "Epoch 22/100\n",
            "13/13 - 0s - loss: 1856.4193 - 30ms/epoch - 2ms/step\n",
            "Epoch 23/100\n",
            "13/13 - 0s - loss: 1517.2261 - 30ms/epoch - 2ms/step\n",
            "Epoch 24/100\n",
            "13/13 - 0s - loss: 1244.9017 - 26ms/epoch - 2ms/step\n",
            "Epoch 25/100\n",
            "13/13 - 0s - loss: 1025.9534 - 38ms/epoch - 3ms/step\n",
            "Epoch 26/100\n",
            "13/13 - 0s - loss: 860.0441 - 27ms/epoch - 2ms/step\n",
            "Epoch 27/100\n",
            "13/13 - 0s - loss: 742.6197 - 27ms/epoch - 2ms/step\n",
            "Epoch 28/100\n",
            "13/13 - 0s - loss: 672.4211 - 26ms/epoch - 2ms/step\n",
            "Epoch 29/100\n",
            "13/13 - 0s - loss: 642.2650 - 28ms/epoch - 2ms/step\n",
            "Epoch 30/100\n",
            "13/13 - 0s - loss: 629.8035 - 32ms/epoch - 2ms/step\n",
            "Epoch 31/100\n",
            "13/13 - 0s - loss: 623.8372 - 29ms/epoch - 2ms/step\n",
            "Epoch 32/100\n",
            "13/13 - 0s - loss: 620.5130 - 39ms/epoch - 3ms/step\n",
            "Epoch 33/100\n",
            "13/13 - 0s - loss: 618.4650 - 30ms/epoch - 2ms/step\n",
            "Epoch 34/100\n",
            "13/13 - 0s - loss: 617.1089 - 55ms/epoch - 4ms/step\n",
            "Epoch 35/100\n",
            "13/13 - 0s - loss: 615.9333 - 32ms/epoch - 2ms/step\n",
            "Epoch 36/100\n",
            "13/13 - 0s - loss: 615.2836 - 24ms/epoch - 2ms/step\n",
            "Epoch 37/100\n",
            "13/13 - 0s - loss: 614.7127 - 25ms/epoch - 2ms/step\n",
            "Epoch 38/100\n",
            "13/13 - 0s - loss: 614.2010 - 29ms/epoch - 2ms/step\n",
            "Epoch 39/100\n",
            "13/13 - 0s - loss: 613.6731 - 27ms/epoch - 2ms/step\n",
            "Epoch 40/100\n",
            "13/13 - 0s - loss: 613.1395 - 24ms/epoch - 2ms/step\n",
            "Epoch 41/100\n",
            "13/13 - 0s - loss: 612.7076 - 29ms/epoch - 2ms/step\n",
            "Epoch 42/100\n",
            "13/13 - 0s - loss: 612.1933 - 26ms/epoch - 2ms/step\n",
            "Epoch 43/100\n",
            "13/13 - 0s - loss: 611.7943 - 24ms/epoch - 2ms/step\n",
            "Epoch 44/100\n",
            "13/13 - 0s - loss: 611.3874 - 24ms/epoch - 2ms/step\n",
            "Epoch 45/100\n",
            "13/13 - 0s - loss: 611.0347 - 23ms/epoch - 2ms/step\n",
            "Epoch 46/100\n",
            "13/13 - 0s - loss: 610.7121 - 31ms/epoch - 2ms/step\n",
            "Epoch 47/100\n",
            "13/13 - 0s - loss: 610.3690 - 32ms/epoch - 2ms/step\n",
            "Epoch 48/100\n",
            "13/13 - 0s - loss: 610.0564 - 26ms/epoch - 2ms/step\n",
            "Epoch 49/100\n",
            "13/13 - 0s - loss: 609.7515 - 25ms/epoch - 2ms/step\n",
            "Epoch 50/100\n",
            "13/13 - 0s - loss: 609.5016 - 22ms/epoch - 2ms/step\n",
            "Epoch 51/100\n",
            "13/13 - 0s - loss: 609.1890 - 23ms/epoch - 2ms/step\n",
            "Epoch 52/100\n",
            "13/13 - 0s - loss: 608.9027 - 26ms/epoch - 2ms/step\n",
            "Epoch 53/100\n",
            "13/13 - 0s - loss: 608.6115 - 22ms/epoch - 2ms/step\n",
            "Epoch 54/100\n",
            "13/13 - 0s - loss: 608.3485 - 50ms/epoch - 4ms/step\n",
            "Epoch 55/100\n",
            "13/13 - 0s - loss: 608.0619 - 33ms/epoch - 3ms/step\n",
            "Epoch 56/100\n",
            "13/13 - 0s - loss: 607.8119 - 28ms/epoch - 2ms/step\n",
            "Epoch 57/100\n",
            "13/13 - 0s - loss: 607.6023 - 23ms/epoch - 2ms/step\n",
            "Epoch 58/100\n",
            "13/13 - 0s - loss: 607.4120 - 24ms/epoch - 2ms/step\n",
            "Epoch 59/100\n",
            "13/13 - 0s - loss: 607.2155 - 39ms/epoch - 3ms/step\n",
            "Epoch 60/100\n",
            "13/13 - 0s - loss: 607.0520 - 31ms/epoch - 2ms/step\n",
            "Epoch 61/100\n",
            "13/13 - 0s - loss: 606.8996 - 22ms/epoch - 2ms/step\n",
            "Epoch 62/100\n",
            "13/13 - 0s - loss: 606.7604 - 23ms/epoch - 2ms/step\n",
            "Epoch 63/100\n",
            "13/13 - 0s - loss: 606.6236 - 35ms/epoch - 3ms/step\n",
            "Epoch 64/100\n",
            "13/13 - 0s - loss: 606.5073 - 25ms/epoch - 2ms/step\n",
            "Epoch 65/100\n",
            "13/13 - 0s - loss: 606.3780 - 22ms/epoch - 2ms/step\n",
            "Epoch 66/100\n",
            "13/13 - 0s - loss: 606.2596 - 31ms/epoch - 2ms/step\n",
            "Epoch 67/100\n",
            "13/13 - 0s - loss: 606.1423 - 25ms/epoch - 2ms/step\n",
            "Epoch 68/100\n",
            "13/13 - 0s - loss: 606.0065 - 27ms/epoch - 2ms/step\n",
            "Epoch 69/100\n",
            "13/13 - 0s - loss: 605.8860 - 25ms/epoch - 2ms/step\n",
            "Epoch 70/100\n",
            "13/13 - 0s - loss: 605.7475 - 26ms/epoch - 2ms/step\n",
            "Epoch 71/100\n",
            "13/13 - 0s - loss: 605.6123 - 26ms/epoch - 2ms/step\n",
            "Epoch 72/100\n",
            "13/13 - 0s - loss: 605.4853 - 24ms/epoch - 2ms/step\n",
            "Epoch 73/100\n",
            "13/13 - 0s - loss: 605.3730 - 26ms/epoch - 2ms/step\n",
            "Epoch 74/100\n",
            "13/13 - 0s - loss: 605.2476 - 23ms/epoch - 2ms/step\n",
            "Epoch 75/100\n",
            "13/13 - 0s - loss: 605.1278 - 29ms/epoch - 2ms/step\n",
            "Epoch 76/100\n",
            "13/13 - 0s - loss: 605.0203 - 28ms/epoch - 2ms/step\n",
            "Epoch 77/100\n",
            "13/13 - 0s - loss: 604.8964 - 29ms/epoch - 2ms/step\n",
            "Epoch 78/100\n",
            "13/13 - 0s - loss: 604.7769 - 30ms/epoch - 2ms/step\n",
            "Epoch 79/100\n",
            "13/13 - 0s - loss: 604.6653 - 24ms/epoch - 2ms/step\n",
            "Epoch 80/100\n",
            "13/13 - 0s - loss: 604.5454 - 24ms/epoch - 2ms/step\n",
            "Epoch 81/100\n",
            "13/13 - 0s - loss: 604.4360 - 23ms/epoch - 2ms/step\n",
            "Epoch 82/100\n",
            "13/13 - 0s - loss: 604.3228 - 26ms/epoch - 2ms/step\n",
            "Epoch 83/100\n",
            "13/13 - 0s - loss: 604.2072 - 23ms/epoch - 2ms/step\n",
            "Epoch 84/100\n",
            "13/13 - 0s - loss: 604.0930 - 23ms/epoch - 2ms/step\n",
            "Epoch 85/100\n",
            "13/13 - 0s - loss: 603.9750 - 23ms/epoch - 2ms/step\n",
            "Epoch 86/100\n",
            "13/13 - 0s - loss: 603.8608 - 31ms/epoch - 2ms/step\n",
            "Epoch 87/100\n",
            "13/13 - 0s - loss: 603.7452 - 30ms/epoch - 2ms/step\n",
            "Epoch 88/100\n",
            "13/13 - 0s - loss: 603.6303 - 25ms/epoch - 2ms/step\n",
            "Epoch 89/100\n",
            "13/13 - 0s - loss: 603.5182 - 24ms/epoch - 2ms/step\n",
            "Epoch 90/100\n",
            "13/13 - 0s - loss: 603.4081 - 26ms/epoch - 2ms/step\n",
            "Epoch 91/100\n",
            "13/13 - 0s - loss: 603.2928 - 23ms/epoch - 2ms/step\n",
            "Epoch 92/100\n",
            "13/13 - 0s - loss: 603.1813 - 26ms/epoch - 2ms/step\n",
            "Epoch 93/100\n",
            "13/13 - 0s - loss: 603.0663 - 27ms/epoch - 2ms/step\n",
            "Epoch 94/100\n",
            "13/13 - 0s - loss: 602.9476 - 28ms/epoch - 2ms/step\n",
            "Epoch 95/100\n",
            "13/13 - 0s - loss: 602.8319 - 27ms/epoch - 2ms/step\n",
            "Epoch 96/100\n",
            "13/13 - 0s - loss: 602.7123 - 26ms/epoch - 2ms/step\n",
            "Epoch 97/100\n",
            "13/13 - 0s - loss: 602.5964 - 32ms/epoch - 2ms/step\n",
            "Epoch 98/100\n",
            "13/13 - 0s - loss: 602.4739 - 25ms/epoch - 2ms/step\n",
            "Epoch 99/100\n",
            "13/13 - 0s - loss: 602.3514 - 29ms/epoch - 2ms/step\n",
            "Epoch 100/100\n",
            "13/13 - 0s - loss: 602.2306 - 25ms/epoch - 2ms/step\n"
          ]
        },
        {
          "output_type": "execute_result",
          "data": {
            "text/plain": [
              "<keras.callbacks.History at 0x7fb3cdb32910>"
            ]
          },
          "metadata": {},
          "execution_count": 9
        }
      ]
    },
    {
      "cell_type": "code",
      "source": [
        "# Predict\n",
        "pred = model.predict(x)"
      ],
      "metadata": {
        "colab": {
          "base_uri": "https://localhost:8080/"
        },
        "id": "HNWbkLuA-1mi",
        "outputId": "07be76aa-afef-4fc8-e152-3017422294fb"
      },
      "execution_count": null,
      "outputs": [
        {
          "output_type": "stream",
          "name": "stdout",
          "text": [
            "13/13 [==============================] - 0s 2ms/step\n"
          ]
        }
      ]
    },
    {
      "cell_type": "code",
      "source": [
        "# Measure RMSE error.  RMSE is common for regression.\n",
        "score = np.sqrt(metrics.mean_squared_error(pred,y))\n",
        "print(f\"Before save score (RMSE): {score}\")"
      ],
      "metadata": {
        "colab": {
          "base_uri": "https://localhost:8080/"
        },
        "id": "AaenvZcH-5b4",
        "outputId": "b149b2c2-ca9e-4e24-8762-c0e5005e535c"
      },
      "execution_count": null,
      "outputs": [
        {
          "output_type": "stream",
          "name": "stdout",
          "text": [
            "Before save score (RMSE): 24.538941744000518\n"
          ]
        }
      ]
    },
    {
      "cell_type": "code",
      "source": [
        "# save neural network structure to JSON (no weights)\n",
        "model_json = model.to_json()\n",
        "with open(os.path.join(save_path,\"network.json\"), \"w\") as json_file:\n",
        "    json_file.write(model_json)"
      ],
      "metadata": {
        "id": "RTJKqUTo-5Vs"
      },
      "execution_count": null,
      "outputs": []
    },
    {
      "cell_type": "code",
      "execution_count": null,
      "metadata": {
        "id": "RYGcgGF_LDUN"
      },
      "outputs": [],
      "source": [
        "# save entire network to HDF5 (save everything, suggested)\n",
        "model.save(os.path.join(save_path,\"network.h5\"))"
      ]
    },
    {
      "cell_type": "markdown",
      "metadata": {
        "id": "lRH-rnocLDUO"
      },
      "source": [
        "The code below sets up a neural network and reads the data (for predictions), but it does not clear the model directory or fit the neural network. The code loads the weights from the previous fit. Now we reload the network and perform another prediction. The RMSE should match the previous one exactly if we saved and reloaded the neural network correctly."
      ]
    },
    {
      "cell_type": "code",
      "execution_count": null,
      "metadata": {
        "id": "XhbEI5jjLDUO",
        "outputId": "12ac0aba-33e7-4212-bdf5-8cbb42a75bfd",
        "colab": {
          "base_uri": "https://localhost:8080/"
        }
      },
      "outputs": [
        {
          "output_type": "stream",
          "name": "stdout",
          "text": [
            "13/13 [==============================] - 0s 2ms/step\n",
            "After load score (RMSE): 24.538941744000518\n"
          ]
        }
      ],
      "source": [
        "from tensorflow.keras.models import load_model\n",
        "model2 = load_model(os.path.join(save_path,\"network.h5\"))\n",
        "pred = model2.predict(x)\n",
        "# Measure RMSE error.  RMSE is common for regression.\n",
        "score = np.sqrt(metrics.mean_squared_error(pred,y))\n",
        "print(f\"After load score (RMSE): {score}\")"
      ]
    },
    {
      "cell_type": "code",
      "source": [
        "# !pip install ann_visualizer\n",
        "# !pip install graphviz"
      ],
      "metadata": {
        "id": "Kkx-bCqZ_GYy"
      },
      "execution_count": null,
      "outputs": []
    },
    {
      "cell_type": "code",
      "source": [
        "from ann_visualizer.visualize import ann_viz;\n",
        "\n",
        "ann_viz(model, title=\"My first neural network\")"
      ],
      "metadata": {
        "id": "ol5S21FXSyls"
      },
      "execution_count": null,
      "outputs": []
    },
    {
      "cell_type": "code",
      "source": [
        "from tensorflow.keras.utils import plot_model"
      ],
      "metadata": {
        "id": "5aY9FvtdS-Mr"
      },
      "execution_count": null,
      "outputs": []
    },
    {
      "cell_type": "code",
      "source": [
        "plot_model(model, to_file='model.png', show_shapes=True, show_layer_names=True)"
      ],
      "metadata": {
        "colab": {
          "base_uri": "https://localhost:8080/",
          "height": 422
        },
        "id": "gsRhq7m_WDf8",
        "outputId": "a493aa28-e39d-4fd9-ee11-2e11dc2156a2"
      },
      "execution_count": null,
      "outputs": [
        {
          "output_type": "execute_result",
          "data": {
            "image/png": "[encoded data removed]",
            "text/plain": [
              "<IPython.core.display.Image object>"
            ]
          },
          "metadata": {},
          "execution_count": 20
        }
      ]
    },
    {
      "cell_type": "code",
      "source": [
        "#  !pip install visualkeras"
      ],
      "metadata": {
        "colab": {
          "base_uri": "https://localhost:8080/"
        },
        "id": "aE2BbzjJWwft",
        "outputId": "e79d459c-d917-4690-98d0-d88410ac9330"
      },
      "execution_count": null,
      "outputs": [
        {
          "output_type": "stream",
          "name": "stdout",
          "text": [
            "Looking in indexes: https://pypi.org/simple, https://us-python.pkg.dev/colab-wheels/public/simple/\n",
            "Collecting visualkeras\n",
            "  Downloading visualkeras-0.0.2-py3-none-any.whl (12 kB)\n",
            "Collecting aggdraw>=1.3.11\n",
            "  Downloading aggdraw-1.3.15-cp37-cp37m-manylinux_2_17_x86_64.manylinux2014_x86_64.whl (989 kB)\n",
            "\u001b[K     |████████████████████████████████| 989 kB 5.0 MB/s \n",
            "\u001b[?25hRequirement already satisfied: numpy>=1.18.1 in /usr/local/lib/python3.7/dist-packages (from visualkeras) (1.21.6)\n",
            "Requirement already satisfied: pillow>=6.2.0 in /usr/local/lib/python3.7/dist-packages (from visualkeras) (7.1.2)\n",
            "Installing collected packages: aggdraw, visualkeras\n",
            "Successfully installed aggdraw-1.3.15 visualkeras-0.0.2\n"
          ]
        }
      ]
    },
    {
      "cell_type": "code",
      "source": [
        "import visualkeras\n",
        "visualkeras.layered_view(model)"
      ],
      "metadata": {
        "colab": {
          "base_uri": "https://localhost:8080/",
          "height": 44
        },
        "id": "U7DVId6YWHIj",
        "outputId": "a3d742e8-84ca-494e-e925-5730af188ee1"
      },
      "execution_count": null,
      "outputs": [
        {
          "output_type": "execute_result",
          "data": {
            "text/plain": [
              "<PIL.Image.Image image mode=RGBA size=107x27 at 0x7FB3C9648890>"
            ],
            "image/png": "[encoded data removed]"
          },
          "metadata": {},
          "execution_count": 23
        }
      ]
    },
    {
      "cell_type": "code",
      "source": [],
      "metadata": {
        "id": "woVriXGdWvSr"
      },
      "execution_count": null,
      "outputs": []
    }
  ],
  "metadata": {
    "anaconda-cloud": {},
    "kernelspec": {
      "display_name": "Python 3.9 (tensorflow)",
      "language": "python",
      "name": "tensorflow"
    },
    "language_info": {
      "codemirror_mode": {
        "name": "ipython",
        "version": 3
      },
      "file_extension": ".py",
      "mimetype": "text/x-python",
      "name": "python",
      "nbconvert_exporter": "python",
      "pygments_lexer": "ipython3",
      "version": "3.9.7"
    },
    "colab": {
      "provenance": [],
      "include_colab_link": true
    }
  },
  "nbformat": 4,
  "nbformat_minor": 0
}